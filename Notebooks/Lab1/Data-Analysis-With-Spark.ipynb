{
 "cells": [
  {
   "cell_type": "markdown",
   "metadata": {},
   "source": [
    "---\n",
    "# Lab Number : 1\n",
    "\n",
    "## Title : *Data Analysis with Spark* \n",
    "\n",
    "## Goal : Getting Familiar with Spark workflow  \n",
    "\n",
    "## Help:\n",
    "\n",
    "1. Spark Programming Guide : https://spark.apache.org/docs/2.2.0/rdd-programming-guide.html\n",
    "2. Spark API reference : https://spark.apache.org/docs/latest/api/python/index.html\n",
    "\n",
    "## Datasets reference:\n",
    "\n",
    "https://archive.ics.uci.edu/ml/datasets/bank+marketing\n",
    "\n",
    "## Input Datasets:\n",
    "\n",
    "* bank.csv\n",
    "* bank-full.csv\n",
    "* bank-additional.csv\n",
    "\n",
    "\n",
    "## Datasets local path:\n",
    "\n",
    "* /spark-course/data/bank/\n",
    "\n",
    "## Reading (do not yet):\n",
    "\n",
    "[Moro et al., 2014](https://www.researchgate.net/publication/260805594_A_Data-Driven_Approach_to_Predict_the_Success_of_Bank_Telemarketing) A Data-Driven Approach to Predict the Success of Bank Telemarketing.\n",
    "\n",
    "---"
   ]
  },
  {
   "cell_type": "markdown",
   "metadata": {},
   "source": [
    "## Lab Specific Tasks\n",
    "\n",
    "### Initialization\n",
    "\n",
    " * Create a SparkSession\n",
    " * Load the dataset : Bank Products Marketing\n",
    "\n",
    "### Basic Analysis\n",
    "\n",
    " * Inspect the dataset and analyze it's structure (schema)\n",
    " * Report the number of columns and their names\n",
    " * Report the number of records in dataset\n",
    " * Transform implicitly numeric columns into actual numeric columns\n",
    " * Perform simple (descriptive) statistics ( max, min , average, median , stddev) on numeric columns were applicable\n",
    " \n",
    "### Advanced Analysis\n",
    "\n",
    " * Perform simple statistics PER 'job_type' and 'marital_status'\n",
    " * Quantify \n",
    " * Investigate and quantify correlations (if any) between features \n",
    "\n",
    "### Bonus\n",
    "\n",
    " * Propose an algorithm for predicting user's predisposition to buy a new bank marketing product\n",
    " * May too ambitious for this Lab?\n",
    "\n",
    "### Save and Report Your Results\n",
    "\n",
    "Once your finished save your notebook: \n",
    "\n",
    "1. Go File -> Save and Checkpoint\n",
    "2. Email the professor [email](aabreua@faculty.ie.edu) your saved Notebook ( the .ipynb file )\n",
    "3. **Note : every** bulleted task above shall have it's corresponding pyspark code in your notebook. "
   ]
  },
  {
   "cell_type": "code",
   "execution_count": 4,
   "metadata": {
    "collapsed": true
   },
   "outputs": [],
   "source": [
    "from pyspark.sql import SparkSession\n",
    "from pyspark import SparkContext, SparkConf\n",
    "\n",
    "spark = SparkSession \\\n",
    "        .builder \\\n",
    "        .appName(\"Lab1\") \\\n",
    "        .getOrCreate()\n",
    "\n",
    "sc = spark.sparkContext"
   ]
  },
  {
   "cell_type": "code",
   "execution_count": 6,
   "metadata": {
    "collapsed": true,
    "scrolled": true
   },
   "outputs": [],
   "source": [
    "datasets_path='/spark-course/data/bank/'\n",
    "bank_data=datasets_path+'bank.csv'\n",
    "# Use it to load some data\n",
    "df= spark \\\n",
    "    .read \\\n",
    "    .option(\"header\",\"true\") \\\n",
    "    .csv(bank_data)"
   ]
  },
  {
   "cell_type": "code",
   "execution_count": 7,
   "metadata": {},
   "outputs": [
    {
     "data": {
      "text/plain": [
       "DataFrame[\"age\";\"job\";\"marital\";\"education\";\"default\";\"balance\";\"housing\";\"loan\";\"contact\";\"day\";\"month\";\"duration\";\"campaign\";\"pdays\";\"previous\";\"poutcome\";\"y\"\": string]"
      ]
     },
     "execution_count": 7,
     "metadata": {},
     "output_type": "execute_result"
    }
   ],
   "source": [
    "# What is df ?\n",
    "df"
   ]
  },
  {
   "cell_type": "code",
   "execution_count": 8,
   "metadata": {},
   "outputs": [
    {
     "data": {
      "text/plain": [
       "[Row(\"age\";\"job\";\"marital\";\"education\";\"default\";\"balance\";\"housing\";\"loan\";\"contact\";\"day\";\"month\";\"duration\";\"campaign\";\"pdays\";\"previous\";\"poutcome\";\"y\"\"='30;\"unemployed\";\"married\";\"primary\";\"no\";1787;\"no\";\"no\";\"cellular\";19;\"oct\";79;1;-1;0;\"unknown\";\"no\"'),\n",
       " Row(\"age\";\"job\";\"marital\";\"education\";\"default\";\"balance\";\"housing\";\"loan\";\"contact\";\"day\";\"month\";\"duration\";\"campaign\";\"pdays\";\"previous\";\"poutcome\";\"y\"\"='33;\"services\";\"married\";\"secondary\";\"no\";4789;\"yes\";\"yes\";\"cellular\";11;\"may\";220;1;339;4;\"failure\";\"no\"'),\n",
       " Row(\"age\";\"job\";\"marital\";\"education\";\"default\";\"balance\";\"housing\";\"loan\";\"contact\";\"day\";\"month\";\"duration\";\"campaign\";\"pdays\";\"previous\";\"poutcome\";\"y\"\"='35;\"management\";\"single\";\"tertiary\";\"no\";1350;\"yes\";\"no\";\"cellular\";16;\"apr\";185;1;330;1;\"failure\";\"no\"'),\n",
       " Row(\"age\";\"job\";\"marital\";\"education\";\"default\";\"balance\";\"housing\";\"loan\";\"contact\";\"day\";\"month\";\"duration\";\"campaign\";\"pdays\";\"previous\";\"poutcome\";\"y\"\"='30;\"management\";\"married\";\"tertiary\";\"no\";1476;\"yes\";\"yes\";\"unknown\";3;\"jun\";199;4;-1;0;\"unknown\";\"no\"'),\n",
       " Row(\"age\";\"job\";\"marital\";\"education\";\"default\";\"balance\";\"housing\";\"loan\";\"contact\";\"day\";\"month\";\"duration\";\"campaign\";\"pdays\";\"previous\";\"poutcome\";\"y\"\"='59;\"blue-collar\";\"married\";\"secondary\";\"no\";0;\"yes\";\"no\";\"unknown\";5;\"may\";226;1;-1;0;\"unknown\";\"no\"')]"
      ]
     },
     "execution_count": 8,
     "metadata": {},
     "output_type": "execute_result"
    }
   ],
   "source": [
    "# ok , but this is not very ... telling , we want to see some of the data also\n",
    "df.take(5)"
   ]
  },
  {
   "cell_type": "code",
   "execution_count": 9,
   "metadata": {},
   "outputs": [
    {
     "name": "stdout",
     "output_type": "stream",
     "text": [
      "root\n",
      " |-- \"age\";\"job\";\"marital\";\"education\";\"default\";\"balance\";\"housing\";\"loan\";\"contact\";\"day\";\"month\";\"duration\";\"campaign\";\"pdays\";\"previous\";\"poutcome\";\"y\"\": string (nullable = true)\n",
      "\n"
     ]
    }
   ],
   "source": [
    "# You can se how a Spark DataFrame is actually a Dataset[Row] abstraction\n",
    "# Let's analyze some data\n",
    "# First let's check the schema\n",
    "df.printSchema()"
   ]
  },
  {
   "cell_type": "code",
   "execution_count": 10,
   "metadata": {
    "collapsed": true
   },
   "outputs": [],
   "source": [
    "# but there seems to be something odd here there is only the 'root' node and then a flat leaf \n",
    "# with everything recorded as strings , even stuff that is certainly numeric\n",
    "# so .. let's provide ourselves the schema"
   ]
  },
  {
   "cell_type": "markdown",
   "metadata": {},
   "source": [
    "#### Manually Specify data schema"
   ]
  },
  {
   "cell_type": "code",
   "execution_count": 11,
   "metadata": {
    "collapsed": true
   },
   "outputs": [],
   "source": [
    "# we can specify the schema ourselves\n",
    "from pyspark.sql import *\n",
    "from pyspark.sql.types import *\n",
    "from pyspark.sql import Row\n",
    "fields = [ \\\n",
    "          StructField(\"age\", DoubleType(), True), \\\n",
    "          StructField(\"job\", StringType(), True), \\\n",
    "          StructField(\"marital\", StringType(), True), \\\n",
    "          StructField(\"education\", StringType(), True), \\\n",
    "          StructField(\"default\", StringType(), True), \\\n",
    "          StructField(\"balance\", DoubleType(), True), \\\n",
    "          StructField(\"housing\", StringType(), True), \\\n",
    "          StructField(\"loan\", StringType(), True), \\\n",
    "          StructField(\"contact\", StringType(), True), \\\n",
    "          StructField(\"day\", StringType(), True), \\\n",
    "          StructField(\"month\", StringType(), True), \\\n",
    "          StructField(\"duration\", IntegerType(), True), \\\n",
    "          StructField(\"campaign\", IntegerType(), True), \\\n",
    "          StructField(\"pdays\", IntegerType(), True), \\\n",
    "          StructField(\"previous\", IntegerType(), True), \\\n",
    "          StructField(\"poutcome\", StringType(), True)]\n",
    "\n",
    "custom_schema=StructType(fields)"
   ]
  },
  {
   "cell_type": "code",
   "execution_count": 12,
   "metadata": {
    "collapsed": true
   },
   "outputs": [],
   "source": [
    "mdf= spark \\\n",
    "    .read \\\n",
    "    .option(\"header\",\"true\") \\\n",
    "    .schema(custom_schema) \\\n",
    "    .csv(bank_data)"
   ]
  },
  {
   "cell_type": "code",
   "execution_count": 13,
   "metadata": {},
   "outputs": [
    {
     "name": "stdout",
     "output_type": "stream",
     "text": [
      "root\n",
      " |-- age: double (nullable = true)\n",
      " |-- job: string (nullable = true)\n",
      " |-- marital: string (nullable = true)\n",
      " |-- education: string (nullable = true)\n",
      " |-- default: string (nullable = true)\n",
      " |-- balance: double (nullable = true)\n",
      " |-- housing: string (nullable = true)\n",
      " |-- loan: string (nullable = true)\n",
      " |-- contact: string (nullable = true)\n",
      " |-- day: string (nullable = true)\n",
      " |-- month: string (nullable = true)\n",
      " |-- duration: integer (nullable = true)\n",
      " |-- campaign: integer (nullable = true)\n",
      " |-- pdays: integer (nullable = true)\n",
      " |-- previous: integer (nullable = true)\n",
      " |-- poutcome: string (nullable = true)\n",
      "\n"
     ]
    }
   ],
   "source": [
    "mdf.printSchema()"
   ]
  },
  {
   "cell_type": "code",
   "execution_count": 14,
   "metadata": {
    "collapsed": true
   },
   "outputs": [],
   "source": [
    "# This looks better\n",
    "# What about inferring the Schema?"
   ]
  },
  {
   "cell_type": "code",
   "execution_count": null,
   "metadata": {
    "collapsed": true
   },
   "outputs": [],
   "source": []
  }
 ],
 "metadata": {
  "kernelspec": {
   "display_name": "Python 3",
   "language": "python",
   "name": "python3"
  },
  "language_info": {
   "codemirror_mode": {
    "name": "ipython",
    "version": 3
   },
   "file_extension": ".py",
   "mimetype": "text/x-python",
   "name": "python",
   "nbconvert_exporter": "python",
   "pygments_lexer": "ipython3",
   "version": "3.6.1"
  }
 },
 "nbformat": 4,
 "nbformat_minor": 2
}
