{
 "cells": [
  {
   "cell_type": "markdown",
   "metadata": {},
   "source": [
    "---\n",
    "## Lab Number : 1\n",
    "\n",
    "### Title : *Data Analysis with Spark* \n",
    "\n",
    "### Goal : Getting Familiar with Spark workflow  \n",
    "\n",
    "### In this Lab we will cover the:\n",
    "\n",
    "\n",
    "1. Spark Datasets and RDDs \n",
    "3. Datasets Transformations and actions\n",
    "2. Lambda functions\n",
    "3. More on Dataset actions\n",
    "4. More on Dataset transformations\n",
    "5. Lazy Evaluation \n",
    "\n",
    "### References:\n",
    "\n",
    "1. Spark API reference : https://spark.apache.org/docs/latest/api/python/pyspark.html#pyspark.RDD\n",
    "\n",
    "### Dataset reference:\n",
    "\n",
    "\n",
    "\n",
    "---"
   ]
  },
  {
   "cell_type": "markdown",
   "metadata": {},
   "source": [
    "### Lab Specific Tasks\n",
    "\n",
    "#### Initialization\n",
    "\n",
    "1. Create a SparkSession\n",
    "2. Load the dataset : New Year Resolutions\n",
    "3. Inspect the dataset and analyze it's structure (schema)\n",
    "\n",
    "#### Analysis\n",
    "\n",
    "4. Report the number of columns and their names\n",
    "5. Report the number of records in dataset\n",
    "6. Report the number of records by date\n",
    "7. Report the number of records by gender\n",
    "8. Report the number of records by locations\n",
    "\n",
    "#### Reporting Results\n",
    "\n",
    "Commit you results to the repository:\n",
    "\n",
    "1. Go to the folder containing your updated Notebook\n",
    "2. Commit your results to your branch\n",
    "3. \n",
    "\n",
    "\n"
   ]
  },
  {
   "cell_type": "code",
   "execution_count": null,
   "metadata": {
    "collapsed": true
   },
   "outputs": [],
   "source": []
  }
 ],
 "metadata": {
  "kernelspec": {
   "display_name": "Python 3",
   "language": "python",
   "name": "python3"
  },
  "language_info": {
   "codemirror_mode": {
    "name": "ipython",
    "version": 3
   },
   "file_extension": ".py",
   "mimetype": "text/x-python",
   "name": "python",
   "nbconvert_exporter": "python",
   "pygments_lexer": "ipython3",
   "version": "3.6.3"
  }
 },
 "nbformat": 4,
 "nbformat_minor": 2
}
