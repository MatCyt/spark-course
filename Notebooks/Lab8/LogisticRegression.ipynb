{
 "cells": [
  {
   "cell_type": "markdown",
   "metadata": {},
   "source": [
    "---\n",
    "## Lab Number : 8\n",
    "\n",
    "### Title : *Logistic Regression with SparkMLib* \n",
    "\n",
    "### Background :  Logistic regression is a popular method to predict a categorical response. \n",
    "\n",
    "### Goal : predict if the client will subscribe (yes/no) a term deposit (variable y).\n",
    "\n",
    "### Dataset\n",
    "\n",
    "Full details @ : https://archive.ics.uci.edu/ml/datasets/bank+marketing\n",
    "\n",
    "The dataset corresponds to :\n",
    "\n",
    "Description of Variables :\n",
    "\n",
    "### Reference\n",
    "\n",
    "Plotting reference @ : https://plot.ly/python/ipython-notebook-tutorial/\n",
    "\n",
    "Plotting examples @ https://plot.ly/python/ipython-notebook-tutorial/#jupyter-gallery\n",
    "\n",
    "---"
   ]
  },
  {
   "cell_type": "markdown",
   "metadata": {},
   "source": [
    "### Working Environment Setup:\n",
    "1. Check exisiting environments \n",
    "2. Activate it if already existing or create ( with !conda-env create <name> )\n",
    "3. Install packages if required"
   ]
  },
  {
   "cell_type": "code",
   "execution_count": 3,
   "metadata": {},
   "outputs": [
    {
     "name": "stdout",
     "output_type": "stream",
     "text": [
      "# conda environments:\n",
      "#\n",
      "analytics                /home/aabreu/software/anaconda3/envs/analytics\n",
      "sandbox                  /home/aabreu/software/anaconda3/envs/sandbox\n",
      "root                  *  /home/aabreu/software/anaconda3\n",
      "\n"
     ]
    }
   ],
   "source": [
    "!conda-env list"
   ]
  },
  {
   "cell_type": "code",
   "execution_count": 5,
   "metadata": {
    "collapsed": true
   },
   "outputs": [],
   "source": [
    "!source activate analytics"
   ]
  },
  {
   "cell_type": "code",
   "execution_count": 11,
   "metadata": {},
   "outputs": [
    {
     "name": "stdout",
     "output_type": "stream",
     "text": [
      "Requirement already satisfied: seaborn in /home/aabreu/software/anaconda3/lib/python3.6/site-packages\r\n"
     ]
    }
   ],
   "source": [
    "!pip install seaborn"
   ]
  },
  {
   "cell_type": "markdown",
   "metadata": {},
   "source": [
    "### Some Useful Functions"
   ]
  },
  {
   "cell_type": "code",
   "execution_count": 7,
   "metadata": {
    "collapsed": true
   },
   "outputs": [],
   "source": [
    "def computeHistogram(df,column_name,nbins):\n",
    "    \"\"\"\n",
    "    Histogram computation in Spark using flatmap and histogram for the selected column of a Spark DataFrame\n",
    "    :param df : a Spark DataFrame object (not a python df)\n",
    "    :param column_name : the column for which histogram is to be computed\n",
    "    :param nbins : the nb. of bins for data accumulation\n",
    "    \"\"\"\n",
    "    hist = df.select(column_name).rdd.flatMap(lambda x: x).histogram(nbins)\n",
    "    return hist"
   ]
  },
  {
   "cell_type": "markdown",
   "metadata": {},
   "source": [
    "### Get a SparkSession object"
   ]
  },
  {
   "cell_type": "code",
   "execution_count": 4,
   "metadata": {},
   "outputs": [
    {
     "name": "stdout",
     "output_type": "stream",
     "text": [
      "Spark version :  2.2.0\n"
     ]
    }
   ],
   "source": [
    "from pyspark.sql import SparkSession\n",
    "\n",
    "spark = SparkSession \\\n",
    "    .builder \\\n",
    "    .appName(\"LogisticRegrssion\") \\\n",
    "    .getOrCreate()\n",
    "    \n",
    "print ('Spark version : ' , spark.version)"
   ]
  },
  {
   "cell_type": "markdown",
   "metadata": {},
   "source": [
    "### Data Loading and Pre-Processing"
   ]
  },
  {
   "cell_type": "code",
   "execution_count": 5,
   "metadata": {},
   "outputs": [
    {
     "name": "stdout",
     "output_type": "stream",
     "text": [
      "CPU times: user 6 ms, sys: 0 ns, total: 6 ms\n",
      "Wall time: 6.05 s\n",
      "Number of rows in dataset : 41188\n"
     ]
    }
   ],
   "source": [
    "# Load the Input Dataset into a Spark Dataframe\n",
    "dataset_path='../../data/bank/'\n",
    "%time df  = spark.read.option(\"header\", \"true\").option(\"inferSchema\", \"true\").csv(dataset_path+'bank-full.csv')\n",
    "print('Number of rows in dataset : ' + str(df.count()))"
   ]
  },
  {
   "cell_type": "markdown",
   "metadata": {},
   "source": [
    "### Data Caching"
   ]
  },
  {
   "cell_type": "code",
   "execution_count": 6,
   "metadata": {},
   "outputs": [
    {
     "data": {
      "text/plain": [
       "DataFrame[age: int, job: string, marital: string, education: string, default: string, housing: string, loan: string, contact: string, month: string, day_of_week: string, duration: int, campaign: int, pdays: int, previous: int, poutcome: string, emp_var_rate: double, cons_price_idx: double, cons_conf_idx: double, euribor3m: double, nr_employed: double, y: int]"
      ]
     },
     "execution_count": 6,
     "metadata": {},
     "output_type": "execute_result"
    }
   ],
   "source": [
    "df.cache()"
   ]
  },
  {
   "cell_type": "markdown",
   "metadata": {},
   "source": [
    "### Data Exploration"
   ]
  },
  {
   "cell_type": "code",
   "execution_count": 7,
   "metadata": {},
   "outputs": [
    {
     "name": "stdout",
     "output_type": "stream",
     "text": [
      "root\n",
      " |-- age: integer (nullable = true)\n",
      " |-- job: string (nullable = true)\n",
      " |-- marital: string (nullable = true)\n",
      " |-- education: string (nullable = true)\n",
      " |-- default: string (nullable = true)\n",
      " |-- housing: string (nullable = true)\n",
      " |-- loan: string (nullable = true)\n",
      " |-- contact: string (nullable = true)\n",
      " |-- month: string (nullable = true)\n",
      " |-- day_of_week: string (nullable = true)\n",
      " |-- duration: integer (nullable = true)\n",
      " |-- campaign: integer (nullable = true)\n",
      " |-- pdays: integer (nullable = true)\n",
      " |-- previous: integer (nullable = true)\n",
      " |-- poutcome: string (nullable = true)\n",
      " |-- emp_var_rate: double (nullable = true)\n",
      " |-- cons_price_idx: double (nullable = true)\n",
      " |-- cons_conf_idx: double (nullable = true)\n",
      " |-- euribor3m: double (nullable = true)\n",
      " |-- nr_employed: double (nullable = true)\n",
      " |-- y: integer (nullable = true)\n",
      "\n"
     ]
    }
   ],
   "source": [
    "# What kind of attributes we have in the dataset?\n",
    "df.printSchema()"
   ]
  },
  {
   "cell_type": "code",
   "execution_count": 8,
   "metadata": {},
   "outputs": [
    {
     "name": "stdout",
     "output_type": "stream",
     "text": [
      "+-------+------------------+\n",
      "|summary|               age|\n",
      "+-------+------------------+\n",
      "|  count|             41188|\n",
      "|   mean| 40.02406040594348|\n",
      "| stddev|10.421249980934071|\n",
      "|    min|                17|\n",
      "|    max|                98|\n",
      "+-------+------------------+\n",
      "\n"
     ]
    }
   ],
   "source": [
    "# Simple statistics on age\n",
    "df.select('age').describe().show()"
   ]
  },
  {
   "cell_type": "code",
   "execution_count": 9,
   "metadata": {},
   "outputs": [
    {
     "name": "stdout",
     "output_type": "stream",
     "text": [
      "+-------+-----------------+\n",
      "|summary|        euribor3m|\n",
      "+-------+-----------------+\n",
      "|  count|            41188|\n",
      "|   mean|3.621290812858366|\n",
      "| stddev|1.734447404851269|\n",
      "|    min|            0.634|\n",
      "|    max|            5.045|\n",
      "+-------+-----------------+\n",
      "\n"
     ]
    }
   ],
   "source": [
    "# Simple statistics on Euribor\n",
    "df.select('euribor3m').describe().show()"
   ]
  },
  {
   "cell_type": "code",
   "execution_count": 21,
   "metadata": {},
   "outputs": [
    {
     "name": "stdout",
     "output_type": "stream",
     "text": [
      "+---+------------------+\n",
      "|age|     avg(campaign)|\n",
      "+---+------------------+\n",
      "| 31|2.5233692860811505|\n",
      "| 85|2.2666666666666666|\n",
      "| 65|1.9090909090909092|\n",
      "| 53| 2.889495225102319|\n",
      "| 78|1.5185185185185186|\n",
      "| 34|2.4888252148997134|\n",
      "| 81|               2.0|\n",
      "| 28|2.3346653346653348|\n",
      "| 76|               2.0|\n",
      "| 27| 2.490011750881316|\n",
      "| 26| 2.479942693409742|\n",
      "| 44| 2.619188921859545|\n",
      "| 91|               1.5|\n",
      "| 22| 2.291970802919708|\n",
      "| 47|2.6648706896551726|\n",
      "| 52|2.6842105263157894|\n",
      "| 86|               1.5|\n",
      "| 40|2.6503014642549525|\n",
      "| 20| 2.353846153846154|\n",
      "| 94|               1.0|\n",
      "+---+------------------+\n",
      "only showing top 20 rows\n",
      "\n"
     ]
    }
   ],
   "source": [
    "# What is the mean value of number of contacts performed during this campaign for each age range\n",
    "df.groupby('age').agg({'campaign': 'mean'}).show()"
   ]
  },
  {
   "cell_type": "code",
   "execution_count": null,
   "metadata": {
    "collapsed": true
   },
   "outputs": [],
   "source": [
    "# What is the mean value of number of contacts performed during this campaign for each age range\n",
    "df.groupby('age').agg({'campaign': 'mean'}).show()"
   ]
  },
  {
   "cell_type": "code",
   "execution_count": null,
   "metadata": {
    "collapsed": true
   },
   "outputs": [],
   "source": [
    "# Matplotlib settings"
   ]
  },
  {
   "cell_type": "code",
   "execution_count": 20,
   "metadata": {},
   "outputs": [
    {
     "data": {
      "text/plain": [
       "<matplotlib.axes._subplots.AxesSubplot at 0x7ff491f5eba8>"
      ]
     },
     "execution_count": 20,
     "metadata": {},
     "output_type": "execute_result"
    },
    {
     "data": {
      "image/png": "[encoded data removed]",
      "text/plain": [
       "<matplotlib.figure.Figure at 0x7ff48ca82b38>"
      ]
     },
     "metadata": {},
     "output_type": "display_data"
    }
   ],
   "source": [
    "# Some plotting ( age distribution ? )\n",
    "%matplotlib inline\n",
    "import matplotlib\n",
    "matplotlib.rc('figure', figsize = (14, 7))\n",
    "import seaborn as sns\n",
    "import numpy as np\n",
    "from scipy.stats import norm\n",
    "x=df.toPandas()['age']\n",
    "sns.distplot(x,fit=norm, kde=False)"
   ]
  },
  {
   "cell_type": "markdown",
   "metadata": {},
   "source": [
    "### Build a Model\n",
    "1. We are using categorical data , so transform labels into unique indices\n",
    "2. Create an RDD that contains only numeric data\n",
    "3. Generate a LogisticRegression model and use it\n",
    "\n",
    "Feature Extraction @ : https://spark.apache.org/docs/2.2.0/ml-features.html"
   ]
  },
  {
   "cell_type": "code",
   "execution_count": 43,
   "metadata": {},
   "outputs": [],
   "source": [
    "# Feature Transformation (from scikit-learn)\n",
    "from sklearn import preprocessing\n",
    "le = preprocessing.LabelEncoder()\n",
    "# Transform the unique labelled columns into numeric values (normalized)\n",
    "jobs       = df.select('job').distinct().rdd.flatMap(lambda x: x).collect()\n",
    "maritals   = df.select('marital').distinct().rdd.flatMap(lambda x: x).collect()\n",
    "educations = df.select('education').distinct().rdd.flatMap(lambda x: x).collect()\n",
    "defaults   = df.select('default').distinct().rdd.flatMap(lambda x: x).collect()\n",
    "housings   = df.select('housing').distinct().rdd.flatMap(lambda x: x).collect()\n",
    "loans      = df.select('loan').distinct().rdd.flatMap(lambda x: x).collect()\n",
    "months     = df.select('month').distinct().rdd.flatMap(lambda x: x).collect()\n",
    "daysweek   = df.select('day_of_week').distinct().rdd.flatMap(lambda x: x).collect()\n",
    "contacts   = df.select('contact').distinct().rdd.flatMap(lambda x: x).collect()\n",
    "\n",
    "job_ids=le.fit_transform(jobs)\n",
    "mrt_ids=le.fit_transform(maritals)\n",
    "edu_ids=le.fit_transform(educations)\n",
    "def_ids=le.fit_transform(defaults)\n",
    "hou_ids=le.fit_transform(housings)\n",
    "loa_ids=le.fit_transform(loans)\n",
    "mon_ids=le.fit_transform(months)\n",
    "day_ids=le.fit_transform(daysweek)\n",
    "ctc_ids=le.fit_transform(contacts)"
   ]
  },
  {
   "cell_type": "code",
   "execution_count": 66,
   "metadata": {},
   "outputs": [],
   "source": [
    "# Feature Transformation (from spark mllib)\n",
    "from pyspark.ml.feature import StringIndexer\n",
    "from pyspark.ml.feature import OneHotEncoder\n",
    "\n",
    "job_indexer = StringIndexer(inputCol='job', outputCol='job_id')\n",
    "df1 = job_indexer.fit(df).transform(df)\n",
    "\n",
    "mar_indexer = StringIndexer(inputCol='marital', outputCol='mar_id')\n",
    "df2 = mar_indexer.fit(df1).transform(df1)\n",
    "\n",
    "edu_indexer = StringIndexer(inputCol='education', outputCol='edu_id')\n",
    "df3 = edu_indexer.fit(df2).transform(df2)\n",
    "\n",
    "def_indexer = StringIndexer(inputCol='default', outputCol='def_id')\n",
    "df4 = def_indexer.fit(df3).transform(df3)\n",
    "\n",
    "hou_indexer = StringIndexer(inputCol='housing', outputCol='hou_id')\n",
    "df5 = hou_indexer.fit(df4).transform(df4)\n",
    "\n",
    "loa_indexer = StringIndexer(inputCol='loan', outputCol='loa_id')\n",
    "df6 = loa_indexer.fit(df5).transform(df5)\n",
    "\n",
    "mon_indexer = StringIndexer(inputCol='month', outputCol='mon_id')\n",
    "df7 = mon_indexer.fit(df6).transform(df6)\n",
    "\n",
    "dow_indexer = StringIndexer(inputCol='day_of_week', outputCol='dow_id')\n",
    "df8 = dow_indexer.fit(df7).transform(df7)\n",
    "\n",
    "con_indexer = StringIndexer(inputCol='contact', outputCol='ctc_id')\n",
    "df9 = con_indexer.fit(df8).transform(df8)\n",
    "\n",
    "out_indexer = StringIndexer(inputCol='poutcome', outputCol='out_id')\n",
    "indexed     = out_indexer.fit(df9).transform(df9)"
   ]
  },
  {
   "cell_type": "code",
   "execution_count": 67,
   "metadata": {},
   "outputs": [
    {
     "name": "stdout",
     "output_type": "stream",
     "text": [
      "+---+-----------------+------+-------+------+-------+------+\n",
      "|age|        education|edu_id|marital|mar_id|housing|hou_id|\n",
      "+---+-----------------+------+-------+------+-------+------+\n",
      "| 44|         basic.4y|   4.0|married|   0.0|    yes|   0.0|\n",
      "| 53|          unknown|   6.0|married|   0.0|     no|   1.0|\n",
      "| 28|university.degree|   0.0| single|   1.0|    yes|   0.0|\n",
      "| 39|      high.school|   1.0|married|   0.0|     no|   1.0|\n",
      "| 55|         basic.4y|   4.0|married|   0.0|    yes|   0.0|\n",
      "+---+-----------------+------+-------+------+-------+------+\n",
      "only showing top 5 rows\n",
      "\n"
     ]
    }
   ],
   "source": [
    "# For checking purposes \n",
    "indexed.select('age', 'education', 'edu_id', 'marital', 'mar_id','housing','hou_id').show(5)"
   ]
  },
  {
   "cell_type": "code",
   "execution_count": 69,
   "metadata": {},
   "outputs": [],
   "source": [
    "# We select the numeric subset to continue\n",
    "subset_df=indexed.select(\\\n",
    "        'age','duration','campaign','pdays','previous', \\\n",
    "        'job_id','mar_id','hou_id','loa_id','mon_id', \\\n",
    "        'dow_id','ctc_id','out_id')"
   ]
  },
  {
   "cell_type": "code",
   "execution_count": 70,
   "metadata": {},
   "outputs": [
    {
     "name": "stdout",
     "output_type": "stream",
     "text": [
      "+---+--------+--------+-----+--------+------+------+------+------+------+------+------+------+\n",
      "|age|duration|campaign|pdays|previous|job_id|mar_id|hou_id|loa_id|mon_id|dow_id|ctc_id|out_id|\n",
      "+---+--------+--------+-----+--------+------+------+------+------+------+------+------+------+\n",
      "| 44|     210|       1|  999|       0|   1.0|   0.0|   0.0|   0.0|   2.0|   0.0|   0.0|   0.0|\n",
      "| 53|     138|       1|  999|       0|   2.0|   0.0|   1.0|   0.0|   4.0|   4.0|   0.0|   0.0|\n",
      "| 28|     339|       3|    6|       2|   4.0|   1.0|   0.0|   0.0|   3.0|   0.0|   0.0|   2.0|\n",
      "| 39|     185|       2|  999|       0|   3.0|   0.0|   1.0|   0.0|   5.0|   4.0|   0.0|   0.0|\n",
      "| 55|     137|       1|    3|       1|   5.0|   0.0|   0.0|   0.0|   2.0|   4.0|   0.0|   2.0|\n",
      "+---+--------+--------+-----+--------+------+------+------+------+------+------+------+------+\n",
      "only showing top 5 rows\n",
      "\n"
     ]
    }
   ],
   "source": [
    "subset_df.show(5)"
   ]
  },
  {
   "cell_type": "code",
   "execution_count": null,
   "metadata": {
    "collapsed": true
   },
   "outputs": [],
   "source": []
  }
 ],
 "metadata": {
  "kernelspec": {
   "display_name": "Python 3",
   "language": "python",
   "name": "python3"
  },
  "language_info": {
   "codemirror_mode": {
    "name": "ipython",
    "version": 3
   },
   "file_extension": ".py",
   "mimetype": "text/x-python",
   "name": "python",
   "nbconvert_exporter": "python",
   "pygments_lexer": "ipython3",
   "version": "3.6.1"
  }
 },
 "nbformat": 4,
 "nbformat_minor": 2
}
