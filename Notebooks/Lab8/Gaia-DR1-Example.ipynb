{
 "cells": [
  {
   "cell_type": "markdown",
   "metadata": {},
   "source": [
    "## Apache Spark + Jupyter Notebook for exploring DR1 data\n",
    "\n",
    "### *Author : Asier Abreu* "
   ]
  },
  {
   "cell_type": "markdown",
   "metadata": {},
   "source": [
    "- create 'spark' object , i.e. a SparkSession\n",
    "- 'sc' object is the Apache Spark context"
   ]
  },
  {
   "cell_type": "code",
   "execution_count": 1,
   "metadata": {},
   "outputs": [
    {
     "name": "stdout",
     "output_type": "stream",
     "text": [
      "Spark version :  2.2.0\n"
     ]
    }
   ],
   "source": [
    "from pyspark.sql import SparkSession\n",
    "\n",
    "spark = SparkSession \\\n",
    "    .builder \\\n",
    "    .appName(\"DR1 Exploration\") \\\n",
    "    .getOrCreate()\n",
    "    \n",
    "print ('Spark version : ' , spark.version)"
   ]
  },
  {
   "cell_type": "markdown",
   "metadata": {},
   "source": [
    "- FUNCTIONS : Define some usefull functions we will use later"
   ]
  },
  {
   "cell_type": "markdown",
   "metadata": {},
   "source": [
    "- SPARK : Reading the whole DR1 csv files , NOTE , this could probably be more efficient if transformed into Parque format files ... i just left it this way , is not that bad afterall . All DR1 is loaded from compressed csv files in < 30 seconds"
   ]
  },
  {
   "cell_type": "code",
   "execution_count": 265,
   "metadata": {},
   "outputs": [
    {
     "name": "stdout",
     "output_type": "stream",
     "text": [
      " scikit-learn: 0.19.1\n",
      "        scipy: 1.0.0\n"
     ]
    }
   ],
   "source": [
    "import numpy as np\n",
    "import matplotlib.pyplot as plt\n",
    "import matplotlib.ticker as ticker\n",
    "from sklearn.neighbors import KernelDensity\n",
    "from scipy.stats import gaussian_kde\n",
    "import sklearn\n",
    "import scipy\n",
    "\n",
    "print(\" scikit-learn: %s\" % sklearn.__version__)\n",
    "print(\"        scipy: %s\" % scipy.__version__)\n",
    "\n",
    "def kde_scipy(x, x_grid, bandwidth=0.2, **kwargs):\n",
    "    \"\"\"\n",
    "    Kernel Density Estimation with Scipy\n",
    "    \"\"\"\n",
    "    # Scipy weights its bandwidth by the covariance of the input data.\n",
    "    kde = gaussian_kde(x, bw_method=bandwidth, **kwargs)\n",
    "    return kde.evaluate(x_grid)\n",
    "\n",
    "def computeHistogram(df,column_name,nbins):\n",
    "    \"\"\"\n",
    "    Histogram computation in Spark using flatmap and histogram for the selected column of a Spark DataFrame\n",
    "    :param df : a Spark DataFrame object (not a python df)\n",
    "    :param column_name : the column for which histogram is to be computed\n",
    "    :param nbins : the nb. of bins for data accumulation\n",
    "    \"\"\"\n",
    "    hist = df.select(column_name).rdd.flatMap(lambda x: x).histogram(nbins)\n",
    "    return hist\n",
    "\n",
    "def histogram(hist,title,nticks=20):\n",
    "    \"\"\"\n",
    "    Simple matplolib plotting of histogram\n",
    "    :param hist : a histogram array containing (bins,counts)\n",
    "    :param title : the histogram title\n",
    "    \"\"\"\n",
    "    bins, counts = hist\n",
    "\n",
    "    n      = len(counts) # nb of centers\n",
    "    width  = 0.95 # width of bars\n",
    "    centrs = np.arange(n)+0.5 # centers of bars\n",
    "\n",
    "    # calculate the grid for the KDE\n",
    "    grid=np.linspace(min(bins), max(bins), 1000)\n",
    "    \n",
    "    # Attempt to fit distribution using scipy kernel density estimator\n",
    "    pdf=kde_scipy(counts, grid, bandwidth=0.5)\n",
    "    \n",
    "    fig, ax = plt.subplots()\n",
    "    \n",
    "    ax.bar(centrs, counts, width, color='#539caf', alpha = 0.75, align='center')\n",
    "    ax.plot(grid, pdf , color='r')\n",
    "    ax.set_ylabel('No. Of Objects')\n",
    "    ax.set_title(title)\n",
    "    \n",
    "    # Compute the number ticks and labels to be show\n",
    "    ticks  = np.arange(0, shape[0]+1, shape[0]/nticks)\n",
    "    labels =[round(x, ndigits) for x in np.arange(min(bins), max(bins)+1, (max(bins)-min(bins))/nticks)]\n",
    "    \n",
    "    #ax.set_xticks(np.arange(n+1))\n",
    "    #ax.set_xticklabels(bins)\n",
    "    \n",
    "    ax.set_xticks(ticks)\n",
    "    ax.set_xticklabels(labels)\n",
    "        \n",
    "    ax.xaxis.set_major_formatter(ticker.FormatStrFormatter('%i'))\n",
    "    ax.yaxis.set_major_formatter(ticker.FormatStrFormatter('%.2e'))\n",
    "     \n",
    "    if (len(bins)>30):\n",
    "        plt.xticks(rotation=70)\n",
    "    \n",
    "    plt.show()\n",
    "    \n",
    "    return pdf\n",
    "        \n",
    "# Scatterplot unction\n",
    "def scatterplot(x, y,point_size, x_label, y_label, title):\n",
    "    \"\"\"\n",
    "    :param x : abscissa data (1D array)\n",
    "    :param y : ordinate data (1D array)\n",
    "    :param point_size : size of point plot\n",
    "    :param x_label,ylabel : labels \n",
    "    :param title : the plot title\n",
    "    \"\"\"\n",
    "    \n",
    "    # Create the plot object\n",
    "    fig , ax = plt.subplots()\n",
    "\n",
    "    # Plot the data, set the size (s), color and transparency (alpha)\n",
    "    # of the points\n",
    "    ax.scatter(x_data, y_data, s = point_size, color = '#539caf', alpha = 0.75)\n",
    "\n",
    "    # Label the axes and provide a title\n",
    "    ax.set_title(title)\n",
    "    ax.set_xlabel(x_label)\n",
    "    ax.set_ylabel(y_label)\n",
    "\n",
    "    plt.show()\n",
    "  \n",
    "\n",
    "def densityMap(x,y, bins, nTicks=4 , colormap=None):\n",
    "    \"\"\"\n",
    "    Creates a density map for the given Spark DataFrame\n",
    "    \n",
    "    :param counts: Apache Spark Dataframe\n",
    "    :param bounds: axis bounds\n",
    "    :param nTicks: Selected columns from the data frame\n",
    "    \"\"\"\n",
    "    \n",
    "    heatmap, xedges, yedges = np.histogram2d(x, y, bins=bins)\n",
    "    extent = [xedges[0], xedges[-1], yedges[0], yedges[-1]]\n",
    "    \n",
    "    plt.figure()\n",
    "    plt.imshow(heatmap.T, extent=extent, origin='lower')\n",
    "    plt.colorbar()\n",
    "\n",
    "    #shape = df.shape\n",
    "    \n",
    "    #rangex = bounds[0][1]-bounds[0][0]\n",
    "    #rangey = bounds[1][1]-bounds[1][0]\n",
    "    \n",
    "    #if rangex > 2*(nTicks+1):\n",
    "    #    nDigitsx = 0\n",
    "    #else:\n",
    "    #    nDigitsx = 2\n",
    "        \n",
    "    #if rangey > 2*(nTicks+1):\n",
    "    #    nDigitsy = 0\n",
    "    #else:\n",
    "    #    nDigitsy = 2\n",
    "    \n",
    "    #ticksx= np.arange(0, shape[0]+1, shape[0]/nTicks)\n",
    "    #ticksy= np.arange(0, shape[1]+1, shape[1]/nTicks)\n",
    "    \n",
    "    #labelsx=[round(x, nDigitsx) for x in np.arange(bounds[0][0], bounds[0][1]+1, rangex/nTicks)]\n",
    "    #labelsy=[round(y, nDigitsy) for y in np.arange(bounds[1][0], bounds[1][1]+1, rangey/nTicks)]\n",
    "\n",
    "    #axes in the plot are swapped x->y, y->x\n",
    "    #plt.xticks(ticksy, labelsy)\n",
    "    #plt.yticks(ticksx, labelsx)\n",
    "    plt.show()\n",
    "\n",
    "def dataFrameToCsv(path,df):\n",
    "    \"\"\" Dump a dataframe to CSV.\n",
    "    \n",
    "    :param path: Path to the folder where data will be dumped\n",
    "    :param df: Apache Spark Dataframe\n",
    "    \"\"\"\n",
    "    df.coalesce(1).write.csv(path,header=True)"
   ]
  },
  {
   "cell_type": "code",
   "execution_count": 164,
   "metadata": {
    "collapsed": true
   },
   "outputs": [],
   "source": [
    "# Set some parameters to apply to all plots. These can be overridden\n",
    "# in each plot if desired\n",
    "import matplotlib\n",
    "# Plot size to 14\" x 7\"\n",
    "matplotlib.rc('figure', figsize = (14, 7))\n",
    "# Font size to 14\n",
    "matplotlib.rc('font', size = 10)\n",
    "# Do not display top and right frame lines\n",
    "matplotlib.rc('axes.spines', top = False, right = False)\n",
    "# Remove grid lines\n",
    "matplotlib.rc('axes', grid = False)\n",
    "# Set backgound color to white\n",
    "matplotlib.rc('axes', facecolor = 'white')"
   ]
  },
  {
   "cell_type": "code",
   "execution_count": 3,
   "metadata": {
    "collapsed": true
   },
   "outputs": [],
   "source": [
    "from pyspark.sql import *\n",
    "from pyspark.sql.types import *\n",
    "from pyspark.sql import Row\n",
    "# Define DR1 data model\n",
    "# Note this is not strictly needed if we use option read header = True when creating the RDD\n",
    "fields = [\n",
    "    StructField('solution_id' , LongType(), True),\n",
    "    StructField('source_id'   , LongType(), True),\n",
    "    StructField('random_index', LongType(), True),\n",
    "    StructField('ref_epoch', DoubleType(), True),\n",
    "    StructField('ra', DoubleType(), True),\n",
    "    StructField('ra_error', DoubleType(), True),\n",
    "    StructField('dec', DoubleType(), True),\n",
    "    StructField('dec_error', DoubleType(), True),\n",
    "    StructField('parallax', DoubleType(), True),\n",
    "    StructField('parallax_error', DoubleType(), True),\n",
    "    StructField('pmra', DoubleType(), True),\n",
    "    StructField('pmra_error', DoubleType(), True),\n",
    "    StructField('pmdec', DoubleType(), True),\n",
    "    StructField('pmdec_error', DoubleType(), True),\n",
    "    StructField('ra_dec_corr', FloatType(), True),\n",
    "    StructField('ra_parallax_corr', FloatType(), True),\n",
    "    StructField('ra_pmra_corr', FloatType(), True),\n",
    "    StructField('ra_pmdec_corr', FloatType(), True),\n",
    "    StructField('dec_parallax_corr', FloatType(), True),\n",
    "    StructField('dec_pmra_corr', FloatType(), True),\n",
    "    StructField('dec_pmdec_corr', FloatType(), True),\n",
    "    StructField('parallax_pmra_corr', FloatType(), True),\n",
    "    StructField('parallax_pmdec_corr', FloatType(), True),\n",
    "    StructField('pmra_pmdec_corr', FloatType(), True),\n",
    "    StructField('astrometric_n_obs_al', IntegerType(), True),\n",
    "    StructField('astrometric_n_obs_ac', IntegerType(), True),\n",
    "    StructField('astrometric_n_good_obs_al', IntegerType(), True),\n",
    "    StructField('astrometric_n_good_obs_ac', IntegerType(), True),\n",
    "    StructField('astrometric_n_bad_obs_al', IntegerType(), True),\n",
    "    StructField('astrometric_n_bad_obs_ac', IntegerType(), True),\n",
    "    StructField('astrometric_delta_q', FloatType(), True),\n",
    "    StructField('astrometric_excess_noise', DoubleType(), True),\n",
    "    StructField('astrometric_excess_noise_sif', DoubleType(), True),\n",
    "    StructField('astrometric_primary_flag', BooleanType(), True),\n",
    "    StructField('astrometric_relegation_factor', FloatType(), True),\n",
    "    StructField('astrometric_weight_al', FloatType(), True),\n",
    "    StructField('astrometric_weight_ac', FloatType(), True),\n",
    "    StructField('astrometric_priors_used', IntegerType(), True),\n",
    "    StructField('matched_observations', ShortType(), True),\n",
    "    StructField('duplicated_source', BooleanType(), True),\n",
    "    StructField('scan_direction_strength_k1', FloatType(), True),\n",
    "    StructField('scan_direction_strength_k2', FloatType(), True),\n",
    "    StructField('scan_direction_strength_k3', FloatType(), True),\n",
    "    StructField('scan_direction_strength_k4', FloatType(), True),\n",
    "    StructField('scan_direction_mean_k1', FloatType(), True),\n",
    "    StructField('scan_direction_mean_k2', FloatType(), True),\n",
    "    StructField('scan_direction_mean_k3', FloatType(), True),\n",
    "    StructField('scan_direction_mean_k4', FloatType(), True),\n",
    "    StructField('phot_g_n_obs', IntegerType(), True),\n",
    "    StructField('phot_g_mean_flux', DoubleType(), True),\n",
    "    StructField('phot_g_mean_flux_error', DoubleType(), True),\n",
    "    StructField('phot_g_mean_mag', DoubleType(), True),\n",
    "    StructField('phot_variable_flag', StringType(), True),\n",
    "    StructField('l', DoubleType(), True),\n",
    "    StructField('b', DoubleType(), True),\n",
    "    StructField('ecl_lon', DoubleType(), True),\n",
    "    StructField('ecl_lat', DoubleType(), True)\n",
    "]\n",
    "schema = StructType(fields)"
   ]
  },
  {
   "cell_type": "code",
   "execution_count": 27,
   "metadata": {},
   "outputs": [
    {
     "name": "stdout",
     "output_type": "stream",
     "text": [
      "CPU times: user 6 ms, sys: 0 ns, total: 6 ms\n",
      "Wall time: 4.38 s\n",
      "Number of DR1 sources (in subset): 218453\n"
     ]
    }
   ],
   "source": [
    "# repo='/home/calteam/spark/input/dr1/subset1/'\n",
    "repo='/home/calteam/spark/input/dr1/subset_example/'\n",
    "# Read ALL the data under the repository into a Spark Dataframe\n",
    "# Note that with the option header = True there is no need for a schema\n",
    "%time df  = spark \\\n",
    "    .read \\\n",
    "    .option(\"header\", \"true\") \\      # read the header input data\n",
    "    .option(\"inferSchema\", \"true\") \\ # try to infer the schema from the actual input data\n",
    "    .csv(repo+\"/*\")\n",
    "print('Number of DR1 sources (in subset): ' + str(df.count()))"
   ]
  },
  {
   "cell_type": "markdown",
   "metadata": {},
   "source": [
    "4. Caching a dataset in memory\n",
    "This results in much faster revisits to the dataset"
   ]
  },
  {
   "cell_type": "code",
   "execution_count": 191,
   "metadata": {
    "collapsed": true
   },
   "outputs": [],
   "source": [
    "cached = df.cache()"
   ]
  },
  {
   "cell_type": "markdown",
   "metadata": {},
   "source": [
    " - Show some statistics"
   ]
  },
  {
   "cell_type": "code",
   "execution_count": 192,
   "metadata": {},
   "outputs": [
    {
     "name": "stdout",
     "output_type": "stream",
     "text": [
      "+-------+------------------+\n",
      "|summary|   phot_g_mean_mag|\n",
      "+-------+------------------+\n",
      "|  count|            218453|\n",
      "|   mean|18.010538318205224|\n",
      "| stddev|2.0417361628739594|\n",
      "|    min| 5.846407749332812|\n",
      "|    max|21.488597897466637|\n",
      "+-------+------------------+\n",
      "\n"
     ]
    }
   ],
   "source": [
    "# Show some stats on the magnitude\n",
    "cached.select('phot_g_mean_mag').describe().show()"
   ]
  },
  {
   "cell_type": "code",
   "execution_count": 193,
   "metadata": {},
   "outputs": [
    {
     "name": "stdout",
     "output_type": "stream",
     "text": [
      "+-------+-------------------+\n",
      "|summary|           parallax|\n",
      "+-------+-------------------+\n",
      "|  count|               1651|\n",
      "|   mean|  3.978920249140982|\n",
      "| stddev| 3.9497511130627827|\n",
      "|    min|-1.4070668205832808|\n",
      "|    max|  67.88807113226342|\n",
      "+-------+-------------------+\n",
      "\n"
     ]
    }
   ],
   "source": [
    "# Show some stats on parallax ( !! note the negative values on parallax)\n",
    "cached.select('parallax').describe().show()"
   ]
  },
  {
   "cell_type": "code",
   "execution_count": 194,
   "metadata": {},
   "outputs": [
    {
     "name": "stdout",
     "output_type": "stream",
     "text": [
      "+-------+-------------------+\n",
      "|summary|     parallax_error|\n",
      "+-------+-------------------+\n",
      "|  count|               1651|\n",
      "|   mean| 0.3593731171634306|\n",
      "| stddev| 0.1625931699556385|\n",
      "|    min|0.21361892212958766|\n",
      "|    max| 0.9979214870594493|\n",
      "+-------+-------------------+\n",
      "\n"
     ]
    }
   ],
   "source": [
    "# Show some stats on parallax error \n",
    "cached.select('parallax_error').describe().show()"
   ]
  },
  {
   "cell_type": "code",
   "execution_count": 141,
   "metadata": {},
   "outputs": [
    {
     "name": "stdout",
     "output_type": "stream",
     "text": [
      "== Physical Plan ==\n",
      "InMemoryTableScan [solution_id#4945L, source_id#4946L, random_index#4947, ref_epoch#4948, ra#4949, ra_error#4950, dec#4951, dec_error#4952, parallax#4953, parallax_error#4954, pmra#4955, pmra_error#4956, pmdec#4957, pmdec_error#4958, ra_dec_corr#4959, ra_parallax_corr#4960, ra_pmra_corr#4961, ra_pmdec_corr#4962, dec_parallax_corr#4963, dec_pmra_corr#4964, dec_pmdec_corr#4965, parallax_pmra_corr#4966, parallax_pmdec_corr#4967, pmra_pmdec_corr#4968, ... 33 more fields]\n",
      "   +- InMemoryRelation [solution_id#4945L, source_id#4946L, random_index#4947, ref_epoch#4948, ra#4949, ra_error#4950, dec#4951, dec_error#4952, parallax#4953, parallax_error#4954, pmra#4955, pmra_error#4956, pmdec#4957, pmdec_error#4958, ra_dec_corr#4959, ra_parallax_corr#4960, ra_pmra_corr#4961, ra_pmdec_corr#4962, dec_parallax_corr#4963, dec_pmra_corr#4964, dec_pmdec_corr#4965, parallax_pmra_corr#4966, parallax_pmdec_corr#4967, pmra_pmdec_corr#4968, ... 33 more fields], true, 10000, StorageLevel(disk, memory, deserialized, 1 replicas)\n",
      "         +- *FileScan csv [solution_id#4945L,source_id#4946L,random_index#4947,ref_epoch#4948,ra#4949,ra_error#4950,dec#4951,dec_error#4952,parallax#4953,parallax_error#4954,pmra#4955,pmra_error#4956,pmdec#4957,pmdec_error#4958,ra_dec_corr#4959,ra_parallax_corr#4960,ra_pmra_corr#4961,ra_pmdec_corr#4962,dec_parallax_corr#4963,dec_pmra_corr#4964,dec_pmdec_corr#4965,parallax_pmra_corr#4966,parallax_pmdec_corr#4967,pmra_pmdec_corr#4968,... 33 more fields] Batched: false, Format: CSV, Location: InMemoryFileIndex[file:/home/calteam/spark/input/dr1/subset_example/GaiaSource_000-000-000.csv.gz], PartitionFilters: [], PushedFilters: [], ReadSchema: struct<solution_id:bigint,source_id:bigint,random_index:int,ref_epoch:double,ra:double,ra_error:d...\n"
     ]
    }
   ],
   "source": [
    "# This is the plan to evaluate the cache (lazy evaluation)\n",
    "cached.explain()"
   ]
  },
  {
   "cell_type": "code",
   "execution_count": 77,
   "metadata": {
    "collapsed": true
   },
   "outputs": [],
   "source": [
    "# SUBSET this dataframe\n",
    "subset = cached.select('ra','dec','parallax','parallax_error','phot_g_mean_mag')"
   ]
  },
  {
   "cell_type": "code",
   "execution_count": 264,
   "metadata": {},
   "outputs": [
    {
     "ename": "NameError",
     "evalue": "name 'shape' is not defined",
     "output_type": "error",
     "traceback": [
      "\u001b[0;31m---------------------------------------------------------------------------\u001b[0m",
      "\u001b[0;31mNameError\u001b[0m                                 Traceback (most recent call last)",
      "\u001b[0;32m<ipython-input-264-7d2f5f43d944>\u001b[0m in \u001b[0;36m<module>\u001b[0;34m()\u001b[0m\n\u001b[1;32m      7\u001b[0m \u001b[0mhist\u001b[0m \u001b[0;34m=\u001b[0m \u001b[0mcomputeHistogram\u001b[0m\u001b[0;34m(\u001b[0m\u001b[0msubset\u001b[0m\u001b[0;34m,\u001b[0m\u001b[0mcol\u001b[0m\u001b[0;34m,\u001b[0m\u001b[0mnbins\u001b[0m\u001b[0;34m)\u001b[0m\u001b[0;34m\u001b[0m\u001b[0m\n\u001b[1;32m      8\u001b[0m \u001b[0mntics\u001b[0m\u001b[0;34m=\u001b[0m \u001b[0;36m21\u001b[0m\u001b[0;34m\u001b[0m\u001b[0m\n\u001b[0;32m----> 9\u001b[0;31m \u001b[0mpdf\u001b[0m\u001b[0;34m=\u001b[0m\u001b[0mhistogram\u001b[0m\u001b[0;34m(\u001b[0m\u001b[0mhist\u001b[0m\u001b[0;34m,\u001b[0m\u001b[0;34m'gMag Distribution'\u001b[0m\u001b[0;34m,\u001b[0m\u001b[0mntics\u001b[0m\u001b[0;34m)\u001b[0m\u001b[0;34m\u001b[0m\u001b[0m\n\u001b[0m",
      "\u001b[0;32m<ipython-input-263-64097d41cfa7>\u001b[0m in \u001b[0;36mhistogram\u001b[0;34m(hist, title, nticks)\u001b[0m\n\u001b[1;32m     54\u001b[0m \u001b[0;34m\u001b[0m\u001b[0m\n\u001b[1;32m     55\u001b[0m     \u001b[0;31m# Compute the number ticks and labels to be show\u001b[0m\u001b[0;34m\u001b[0m\u001b[0;34m\u001b[0m\u001b[0m\n\u001b[0;32m---> 56\u001b[0;31m     \u001b[0mticks\u001b[0m  \u001b[0;34m=\u001b[0m \u001b[0mnp\u001b[0m\u001b[0;34m.\u001b[0m\u001b[0marange\u001b[0m\u001b[0;34m(\u001b[0m\u001b[0;36m0\u001b[0m\u001b[0;34m,\u001b[0m \u001b[0mshape\u001b[0m\u001b[0;34m[\u001b[0m\u001b[0;36m0\u001b[0m\u001b[0;34m]\u001b[0m\u001b[0;34m+\u001b[0m\u001b[0;36m1\u001b[0m\u001b[0;34m,\u001b[0m \u001b[0mshape\u001b[0m\u001b[0;34m[\u001b[0m\u001b[0;36m0\u001b[0m\u001b[0;34m]\u001b[0m\u001b[0;34m/\u001b[0m\u001b[0mnticks\u001b[0m\u001b[0;34m)\u001b[0m\u001b[0;34m\u001b[0m\u001b[0m\n\u001b[0m\u001b[1;32m     57\u001b[0m     \u001b[0mlabels\u001b[0m \u001b[0;34m=\u001b[0m\u001b[0;34m[\u001b[0m\u001b[0mround\u001b[0m\u001b[0;34m(\u001b[0m\u001b[0mx\u001b[0m\u001b[0;34m,\u001b[0m \u001b[0mndigits\u001b[0m\u001b[0;34m)\u001b[0m \u001b[0;32mfor\u001b[0m \u001b[0mx\u001b[0m \u001b[0;32min\u001b[0m \u001b[0mnp\u001b[0m\u001b[0;34m.\u001b[0m\u001b[0marange\u001b[0m\u001b[0;34m(\u001b[0m\u001b[0mmin\u001b[0m\u001b[0;34m(\u001b[0m\u001b[0mbins\u001b[0m\u001b[0;34m)\u001b[0m\u001b[0;34m,\u001b[0m \u001b[0mmax\u001b[0m\u001b[0;34m(\u001b[0m\u001b[0mbins\u001b[0m\u001b[0;34m)\u001b[0m\u001b[0;34m+\u001b[0m\u001b[0;36m1\u001b[0m\u001b[0;34m,\u001b[0m \u001b[0;34m(\u001b[0m\u001b[0mmax\u001b[0m\u001b[0;34m(\u001b[0m\u001b[0mbins\u001b[0m\u001b[0;34m)\u001b[0m\u001b[0;34m-\u001b[0m\u001b[0mmin\u001b[0m\u001b[0;34m(\u001b[0m\u001b[0mbins\u001b[0m\u001b[0;34m)\u001b[0m\u001b[0;34m)\u001b[0m\u001b[0;34m/\u001b[0m\u001b[0mnticks\u001b[0m\u001b[0;34m)\u001b[0m\u001b[0;34m]\u001b[0m\u001b[0;34m\u001b[0m\u001b[0m\n\u001b[1;32m     58\u001b[0m \u001b[0;34m\u001b[0m\u001b[0m\n",
      "\u001b[0;31mNameError\u001b[0m: name 'shape' is not defined"
     ]
    },
    {
     "data": {
      "image/png": "[encoded data removed]",
      "text/plain": [
       "<matplotlib.figure.Figure at 0x2aaf4b4ece10>"
      ]
     },
     "metadata": {},
     "output_type": "display_data"
    }
   ],
   "source": [
    "# Do some histograms\n",
    "import pandas as pd\n",
    "import scipy.stats as stats\n",
    "\n",
    "nbins= 21\n",
    "col  = 'phot_g_mean_mag'\n",
    "hist = computeHistogram(subset,col,nbins)\n",
    "ntics= 21\n",
    "pdf=histogram(hist,'gMag Distribution',ntics)"
   ]
  },
  {
   "cell_type": "code",
   "execution_count": 226,
   "metadata": {},
   "outputs": [
    {
     "data": {
      "image/png": "[encoded data removed]",
      "text/plain": [
       "<matplotlib.figure.Figure at 0x2aaf4b506710>"
      ]
     },
     "metadata": {},
     "output_type": "display_data"
    }
   ],
   "source": [
    "nbins= 20 \n",
    "col  = 'parallax'\n",
    "data = computeHistogram(subset,col,nbins)\n",
    "histogram(data,'Parallax Distribution')"
   ]
  },
  {
   "cell_type": "code",
   "execution_count": 267,
   "metadata": {},
   "outputs": [
    {
     "ename": "AnalysisException",
     "evalue": "\"cannot resolve '`pmra`' given input columns: [ra, phot_g_mean_mag, dec, parallax_error, parallax];;\\n'Project ['pmra]\\n+- Project [ra#4949, dec#4951, parallax#4953, parallax_error#4954, phot_g_mean_mag#4996]\\n   +- Relation[solution_id#4945L,source_id#4946L,random_index#4947,ref_epoch#4948,ra#4949,ra_error#4950,dec#4951,dec_error#4952,parallax#4953,parallax_error#4954,pmra#4955,pmra_error#4956,pmdec#4957,pmdec_error#4958,ra_dec_corr#4959,ra_parallax_corr#4960,ra_pmra_corr#4961,ra_pmdec_corr#4962,dec_parallax_corr#4963,dec_pmra_corr#4964,dec_pmdec_corr#4965,parallax_pmra_corr#4966,parallax_pmdec_corr#4967,pmra_pmdec_corr#4968,... 33 more fields] csv\\n\"",
     "output_type": "error",
     "traceback": [
      "\u001b[0;31m---------------------------------------------------------------------------\u001b[0m",
      "\u001b[0;31mPy4JJavaError\u001b[0m                             Traceback (most recent call last)",
      "\u001b[0;32m~/Software/spark-2.2.0-bin-hadoop2.7/python/pyspark/sql/utils.py\u001b[0m in \u001b[0;36mdeco\u001b[0;34m(*a, **kw)\u001b[0m\n\u001b[1;32m     62\u001b[0m         \u001b[0;32mtry\u001b[0m\u001b[0;34m:\u001b[0m\u001b[0;34m\u001b[0m\u001b[0m\n\u001b[0;32m---> 63\u001b[0;31m             \u001b[0;32mreturn\u001b[0m \u001b[0mf\u001b[0m\u001b[0;34m(\u001b[0m\u001b[0;34m*\u001b[0m\u001b[0ma\u001b[0m\u001b[0;34m,\u001b[0m \u001b[0;34m**\u001b[0m\u001b[0mkw\u001b[0m\u001b[0;34m)\u001b[0m\u001b[0;34m\u001b[0m\u001b[0m\n\u001b[0m\u001b[1;32m     64\u001b[0m         \u001b[0;32mexcept\u001b[0m \u001b[0mpy4j\u001b[0m\u001b[0;34m.\u001b[0m\u001b[0mprotocol\u001b[0m\u001b[0;34m.\u001b[0m\u001b[0mPy4JJavaError\u001b[0m \u001b[0;32mas\u001b[0m \u001b[0me\u001b[0m\u001b[0;34m:\u001b[0m\u001b[0;34m\u001b[0m\u001b[0m\n",
      "\u001b[0;32m~/Software/spark-2.2.0-bin-hadoop2.7/python/lib/py4j-0.10.4-src.zip/py4j/protocol.py\u001b[0m in \u001b[0;36mget_return_value\u001b[0;34m(answer, gateway_client, target_id, name)\u001b[0m\n\u001b[1;32m    318\u001b[0m                     \u001b[0;34m\"An error occurred while calling {0}{1}{2}.\\n\"\u001b[0m\u001b[0;34m.\u001b[0m\u001b[0;34m\u001b[0m\u001b[0m\n\u001b[0;32m--> 319\u001b[0;31m                     format(target_id, \".\", name), value)\n\u001b[0m\u001b[1;32m    320\u001b[0m             \u001b[0;32melse\u001b[0m\u001b[0;34m:\u001b[0m\u001b[0;34m\u001b[0m\u001b[0m\n",
      "\u001b[0;31mPy4JJavaError\u001b[0m: An error occurred while calling o544.select.\n: org.apache.spark.sql.AnalysisException: cannot resolve '`pmra`' given input columns: [ra, phot_g_mean_mag, dec, parallax_error, parallax];;\n'Project ['pmra]\n+- Project [ra#4949, dec#4951, parallax#4953, parallax_error#4954, phot_g_mean_mag#4996]\n   +- Relation[solution_id#4945L,source_id#4946L,random_index#4947,ref_epoch#4948,ra#4949,ra_error#4950,dec#4951,dec_error#4952,parallax#4953,parallax_error#4954,pmra#4955,pmra_error#4956,pmdec#4957,pmdec_error#4958,ra_dec_corr#4959,ra_parallax_corr#4960,ra_pmra_corr#4961,ra_pmdec_corr#4962,dec_parallax_corr#4963,dec_pmra_corr#4964,dec_pmdec_corr#4965,parallax_pmra_corr#4966,parallax_pmdec_corr#4967,pmra_pmdec_corr#4968,... 33 more fields] csv\n\n\tat org.apache.spark.sql.catalyst.analysis.package$AnalysisErrorAt.failAnalysis(package.scala:42)\n\tat org.apache.spark.sql.catalyst.analysis.CheckAnalysis$$anonfun$checkAnalysis$1$$anonfun$apply$2.applyOrElse(CheckAnalysis.scala:88)\n\tat org.apache.spark.sql.catalyst.analysis.CheckAnalysis$$anonfun$checkAnalysis$1$$anonfun$apply$2.applyOrElse(CheckAnalysis.scala:85)\n\tat org.apache.spark.sql.catalyst.trees.TreeNode$$anonfun$transformUp$1.apply(TreeNode.scala:289)\n\tat org.apache.spark.sql.catalyst.trees.TreeNode$$anonfun$transformUp$1.apply(TreeNode.scala:289)\n\tat org.apache.spark.sql.catalyst.trees.CurrentOrigin$.withOrigin(TreeNode.scala:70)\n\tat org.apache.spark.sql.catalyst.trees.TreeNode.transformUp(TreeNode.scala:288)\n\tat org.apache.spark.sql.catalyst.plans.QueryPlan$$anonfun$transformExpressionsUp$1.apply(QueryPlan.scala:268)\n\tat org.apache.spark.sql.catalyst.plans.QueryPlan$$anonfun$transformExpressionsUp$1.apply(QueryPlan.scala:268)\n\tat org.apache.spark.sql.catalyst.plans.QueryPlan.transformExpression$1(QueryPlan.scala:279)\n\tat org.apache.spark.sql.catalyst.plans.QueryPlan.org$apache$spark$sql$catalyst$plans$QueryPlan$$recursiveTransform$1(QueryPlan.scala:289)\n\tat org.apache.spark.sql.catalyst.plans.QueryPlan$$anonfun$org$apache$spark$sql$catalyst$plans$QueryPlan$$recursiveTransform$1$1.apply(QueryPlan.scala:293)\n\tat scala.collection.TraversableLike$$anonfun$map$1.apply(TraversableLike.scala:234)\n\tat scala.collection.TraversableLike$$anonfun$map$1.apply(TraversableLike.scala:234)\n\tat scala.collection.mutable.ResizableArray$class.foreach(ResizableArray.scala:59)\n\tat scala.collection.mutable.ArrayBuffer.foreach(ArrayBuffer.scala:48)\n\tat scala.collection.TraversableLike$class.map(TraversableLike.scala:234)\n\tat scala.collection.AbstractTraversable.map(Traversable.scala:104)\n\tat org.apache.spark.sql.catalyst.plans.QueryPlan.org$apache$spark$sql$catalyst$plans$QueryPlan$$recursiveTransform$1(QueryPlan.scala:293)\n\tat org.apache.spark.sql.catalyst.plans.QueryPlan$$anonfun$6.apply(QueryPlan.scala:298)\n\tat org.apache.spark.sql.catalyst.trees.TreeNode.mapProductIterator(TreeNode.scala:187)\n\tat org.apache.spark.sql.catalyst.plans.QueryPlan.mapExpressions(QueryPlan.scala:298)\n\tat org.apache.spark.sql.catalyst.plans.QueryPlan.transformExpressionsUp(QueryPlan.scala:268)\n\tat org.apache.spark.sql.catalyst.analysis.CheckAnalysis$$anonfun$checkAnalysis$1.apply(CheckAnalysis.scala:85)\n\tat org.apache.spark.sql.catalyst.analysis.CheckAnalysis$$anonfun$checkAnalysis$1.apply(CheckAnalysis.scala:78)\n\tat org.apache.spark.sql.catalyst.trees.TreeNode.foreachUp(TreeNode.scala:127)\n\tat org.apache.spark.sql.catalyst.analysis.CheckAnalysis$class.checkAnalysis(CheckAnalysis.scala:78)\n\tat org.apache.spark.sql.catalyst.analysis.Analyzer.checkAnalysis(Analyzer.scala:91)\n\tat org.apache.spark.sql.execution.QueryExecution.assertAnalyzed(QueryExecution.scala:52)\n\tat org.apache.spark.sql.Dataset$.ofRows(Dataset.scala:66)\n\tat org.apache.spark.sql.Dataset.org$apache$spark$sql$Dataset$$withPlan(Dataset.scala:2872)\n\tat org.apache.spark.sql.Dataset.select(Dataset.scala:1153)\n\tat sun.reflect.GeneratedMethodAccessor78.invoke(Unknown Source)\n\tat sun.reflect.DelegatingMethodAccessorImpl.invoke(DelegatingMethodAccessorImpl.java:43)\n\tat java.lang.reflect.Method.invoke(Method.java:497)\n\tat py4j.reflection.MethodInvoker.invoke(MethodInvoker.java:244)\n\tat py4j.reflection.ReflectionEngine.invoke(ReflectionEngine.java:357)\n\tat py4j.Gateway.invoke(Gateway.java:280)\n\tat py4j.commands.AbstractCommand.invokeMethod(AbstractCommand.java:132)\n\tat py4j.commands.CallCommand.execute(CallCommand.java:79)\n\tat py4j.GatewayConnection.run(GatewayConnection.java:214)\n\tat java.lang.Thread.run(Thread.java:745)\n",
      "\nDuring handling of the above exception, another exception occurred:\n",
      "\u001b[0;31mAnalysisException\u001b[0m                         Traceback (most recent call last)",
      "\u001b[0;32m<ipython-input-267-24e8eeff56b4>\u001b[0m in \u001b[0;36m<module>\u001b[0;34m()\u001b[0m\n\u001b[1;32m      1\u001b[0m \u001b[0mnbins\u001b[0m\u001b[0;34m=\u001b[0m \u001b[0;36m200\u001b[0m\u001b[0;34m\u001b[0m\u001b[0m\n\u001b[1;32m      2\u001b[0m \u001b[0mcol\u001b[0m  \u001b[0;34m=\u001b[0m \u001b[0;34m'pmra'\u001b[0m\u001b[0;34m\u001b[0m\u001b[0m\n\u001b[0;32m----> 3\u001b[0;31m \u001b[0mdata\u001b[0m \u001b[0;34m=\u001b[0m \u001b[0mcomputeHistogram\u001b[0m\u001b[0;34m(\u001b[0m\u001b[0msubset\u001b[0m\u001b[0;34m,\u001b[0m\u001b[0mcol\u001b[0m\u001b[0;34m,\u001b[0m\u001b[0mnbins\u001b[0m\u001b[0;34m)\u001b[0m\u001b[0;34m\u001b[0m\u001b[0m\n\u001b[0m\u001b[1;32m      4\u001b[0m \u001b[0mhistogram\u001b[0m\u001b[0;34m(\u001b[0m\u001b[0mdata\u001b[0m\u001b[0;34m,\u001b[0m\u001b[0;34m'Proper Motion RA'\u001b[0m\u001b[0;34m)\u001b[0m\u001b[0;34m\u001b[0m\u001b[0m\n",
      "\u001b[0;32m<ipython-input-265-64097d41cfa7>\u001b[0m in \u001b[0;36mcomputeHistogram\u001b[0;34m(df, column_name, nbins)\u001b[0m\n\u001b[1;32m     25\u001b[0m     \u001b[0;34m:\u001b[0m\u001b[0mparam\u001b[0m \u001b[0mnbins\u001b[0m \u001b[0;34m:\u001b[0m \u001b[0mthe\u001b[0m \u001b[0mnb\u001b[0m\u001b[0;34m.\u001b[0m \u001b[0mof\u001b[0m \u001b[0mbins\u001b[0m \u001b[0;32mfor\u001b[0m \u001b[0mdata\u001b[0m \u001b[0maccumulation\u001b[0m\u001b[0;34m\u001b[0m\u001b[0m\n\u001b[1;32m     26\u001b[0m     \"\"\"\n\u001b[0;32m---> 27\u001b[0;31m     \u001b[0mhist\u001b[0m \u001b[0;34m=\u001b[0m \u001b[0mdf\u001b[0m\u001b[0;34m.\u001b[0m\u001b[0mselect\u001b[0m\u001b[0;34m(\u001b[0m\u001b[0mcolumn_name\u001b[0m\u001b[0;34m)\u001b[0m\u001b[0;34m.\u001b[0m\u001b[0mrdd\u001b[0m\u001b[0;34m.\u001b[0m\u001b[0mflatMap\u001b[0m\u001b[0;34m(\u001b[0m\u001b[0;32mlambda\u001b[0m \u001b[0mx\u001b[0m\u001b[0;34m:\u001b[0m \u001b[0mx\u001b[0m\u001b[0;34m)\u001b[0m\u001b[0;34m.\u001b[0m\u001b[0mhistogram\u001b[0m\u001b[0;34m(\u001b[0m\u001b[0mnbins\u001b[0m\u001b[0;34m)\u001b[0m\u001b[0;34m\u001b[0m\u001b[0m\n\u001b[0m\u001b[1;32m     28\u001b[0m     \u001b[0;32mreturn\u001b[0m \u001b[0mhist\u001b[0m\u001b[0;34m\u001b[0m\u001b[0m\n\u001b[1;32m     29\u001b[0m \u001b[0;34m\u001b[0m\u001b[0m\n",
      "\u001b[0;32m~/Software/spark-2.2.0-bin-hadoop2.7/python/pyspark/sql/dataframe.py\u001b[0m in \u001b[0;36mselect\u001b[0;34m(self, *cols)\u001b[0m\n\u001b[1;32m   1038\u001b[0m         \u001b[0;34m[\u001b[0m\u001b[0mRow\u001b[0m\u001b[0;34m(\u001b[0m\u001b[0mname\u001b[0m\u001b[0;34m=\u001b[0m\u001b[0;34mu'Alice'\u001b[0m\u001b[0;34m,\u001b[0m \u001b[0mage\u001b[0m\u001b[0;34m=\u001b[0m\u001b[0;36m12\u001b[0m\u001b[0;34m)\u001b[0m\u001b[0;34m,\u001b[0m \u001b[0mRow\u001b[0m\u001b[0;34m(\u001b[0m\u001b[0mname\u001b[0m\u001b[0;34m=\u001b[0m\u001b[0;34mu'Bob'\u001b[0m\u001b[0;34m,\u001b[0m \u001b[0mage\u001b[0m\u001b[0;34m=\u001b[0m\u001b[0;36m15\u001b[0m\u001b[0;34m)\u001b[0m\u001b[0;34m]\u001b[0m\u001b[0;34m\u001b[0m\u001b[0m\n\u001b[1;32m   1039\u001b[0m         \"\"\"\n\u001b[0;32m-> 1040\u001b[0;31m         \u001b[0mjdf\u001b[0m \u001b[0;34m=\u001b[0m \u001b[0mself\u001b[0m\u001b[0;34m.\u001b[0m\u001b[0m_jdf\u001b[0m\u001b[0;34m.\u001b[0m\u001b[0mselect\u001b[0m\u001b[0;34m(\u001b[0m\u001b[0mself\u001b[0m\u001b[0;34m.\u001b[0m\u001b[0m_jcols\u001b[0m\u001b[0;34m(\u001b[0m\u001b[0;34m*\u001b[0m\u001b[0mcols\u001b[0m\u001b[0;34m)\u001b[0m\u001b[0;34m)\u001b[0m\u001b[0;34m\u001b[0m\u001b[0m\n\u001b[0m\u001b[1;32m   1041\u001b[0m         \u001b[0;32mreturn\u001b[0m \u001b[0mDataFrame\u001b[0m\u001b[0;34m(\u001b[0m\u001b[0mjdf\u001b[0m\u001b[0;34m,\u001b[0m \u001b[0mself\u001b[0m\u001b[0;34m.\u001b[0m\u001b[0msql_ctx\u001b[0m\u001b[0;34m)\u001b[0m\u001b[0;34m\u001b[0m\u001b[0m\n\u001b[1;32m   1042\u001b[0m \u001b[0;34m\u001b[0m\u001b[0m\n",
      "\u001b[0;32m~/Software/spark-2.2.0-bin-hadoop2.7/python/lib/py4j-0.10.4-src.zip/py4j/java_gateway.py\u001b[0m in \u001b[0;36m__call__\u001b[0;34m(self, *args)\u001b[0m\n\u001b[1;32m   1131\u001b[0m         \u001b[0manswer\u001b[0m \u001b[0;34m=\u001b[0m \u001b[0mself\u001b[0m\u001b[0;34m.\u001b[0m\u001b[0mgateway_client\u001b[0m\u001b[0;34m.\u001b[0m\u001b[0msend_command\u001b[0m\u001b[0;34m(\u001b[0m\u001b[0mcommand\u001b[0m\u001b[0;34m)\u001b[0m\u001b[0;34m\u001b[0m\u001b[0m\n\u001b[1;32m   1132\u001b[0m         return_value = get_return_value(\n\u001b[0;32m-> 1133\u001b[0;31m             answer, self.gateway_client, self.target_id, self.name)\n\u001b[0m\u001b[1;32m   1134\u001b[0m \u001b[0;34m\u001b[0m\u001b[0m\n\u001b[1;32m   1135\u001b[0m         \u001b[0;32mfor\u001b[0m \u001b[0mtemp_arg\u001b[0m \u001b[0;32min\u001b[0m \u001b[0mtemp_args\u001b[0m\u001b[0;34m:\u001b[0m\u001b[0;34m\u001b[0m\u001b[0m\n",
      "\u001b[0;32m~/Software/spark-2.2.0-bin-hadoop2.7/python/pyspark/sql/utils.py\u001b[0m in \u001b[0;36mdeco\u001b[0;34m(*a, **kw)\u001b[0m\n\u001b[1;32m     67\u001b[0m                                              e.java_exception.getStackTrace()))\n\u001b[1;32m     68\u001b[0m             \u001b[0;32mif\u001b[0m \u001b[0ms\u001b[0m\u001b[0;34m.\u001b[0m\u001b[0mstartswith\u001b[0m\u001b[0;34m(\u001b[0m\u001b[0;34m'org.apache.spark.sql.AnalysisException: '\u001b[0m\u001b[0;34m)\u001b[0m\u001b[0;34m:\u001b[0m\u001b[0;34m\u001b[0m\u001b[0m\n\u001b[0;32m---> 69\u001b[0;31m                 \u001b[0;32mraise\u001b[0m \u001b[0mAnalysisException\u001b[0m\u001b[0;34m(\u001b[0m\u001b[0ms\u001b[0m\u001b[0;34m.\u001b[0m\u001b[0msplit\u001b[0m\u001b[0;34m(\u001b[0m\u001b[0;34m': '\u001b[0m\u001b[0;34m,\u001b[0m \u001b[0;36m1\u001b[0m\u001b[0;34m)\u001b[0m\u001b[0;34m[\u001b[0m\u001b[0;36m1\u001b[0m\u001b[0;34m]\u001b[0m\u001b[0;34m,\u001b[0m \u001b[0mstackTrace\u001b[0m\u001b[0;34m)\u001b[0m\u001b[0;34m\u001b[0m\u001b[0m\n\u001b[0m\u001b[1;32m     70\u001b[0m             \u001b[0;32mif\u001b[0m \u001b[0ms\u001b[0m\u001b[0;34m.\u001b[0m\u001b[0mstartswith\u001b[0m\u001b[0;34m(\u001b[0m\u001b[0;34m'org.apache.spark.sql.catalyst.analysis'\u001b[0m\u001b[0;34m)\u001b[0m\u001b[0;34m:\u001b[0m\u001b[0;34m\u001b[0m\u001b[0m\n\u001b[1;32m     71\u001b[0m                 \u001b[0;32mraise\u001b[0m \u001b[0mAnalysisException\u001b[0m\u001b[0;34m(\u001b[0m\u001b[0ms\u001b[0m\u001b[0;34m.\u001b[0m\u001b[0msplit\u001b[0m\u001b[0;34m(\u001b[0m\u001b[0;34m': '\u001b[0m\u001b[0;34m,\u001b[0m \u001b[0;36m1\u001b[0m\u001b[0;34m)\u001b[0m\u001b[0;34m[\u001b[0m\u001b[0;36m1\u001b[0m\u001b[0;34m]\u001b[0m\u001b[0;34m,\u001b[0m \u001b[0mstackTrace\u001b[0m\u001b[0;34m)\u001b[0m\u001b[0;34m\u001b[0m\u001b[0m\n",
      "\u001b[0;31mAnalysisException\u001b[0m: \"cannot resolve '`pmra`' given input columns: [ra, phot_g_mean_mag, dec, parallax_error, parallax];;\\n'Project ['pmra]\\n+- Project [ra#4949, dec#4951, parallax#4953, parallax_error#4954, phot_g_mean_mag#4996]\\n   +- Relation[solution_id#4945L,source_id#4946L,random_index#4947,ref_epoch#4948,ra#4949,ra_error#4950,dec#4951,dec_error#4952,parallax#4953,parallax_error#4954,pmra#4955,pmra_error#4956,pmdec#4957,pmdec_error#4958,ra_dec_corr#4959,ra_parallax_corr#4960,ra_pmra_corr#4961,ra_pmdec_corr#4962,dec_parallax_corr#4963,dec_pmra_corr#4964,dec_pmdec_corr#4965,parallax_pmra_corr#4966,parallax_pmdec_corr#4967,pmra_pmdec_corr#4968,... 33 more fields] csv\\n\""
     ]
    }
   ],
   "source": [
    "nbins= 200 \n",
    "col  = 'pmra'\n",
    "data = computeHistogram(subset,col,nbins)\n",
    "histogram(data,'Proper Motion RA')"
   ]
  },
  {
   "cell_type": "code",
   "execution_count": 260,
   "metadata": {},
   "outputs": [
    {
     "data": {
      "image/png": "[encoded data removed]",
      "text/plain": [
       "<matplotlib.figure.Figure at 0x2aaf45879ba8>"
      ]
     },
     "metadata": {},
     "output_type": "display_data"
    }
   ],
   "source": [
    "import datashader as ds\n",
    "import datashader.transfer_functions as tf\n",
    "import pandas as pd\n",
    "cvs = ds.Canvas(plot_width=400, plot_height=400)\n",
    "agg = cvs.points(df, 'ra', 'dec', ds.mean('z_col'))\n",
    "img = tf.shade(agg, cmap=cm(viridis), how='log')"
   ]
  }
 ],
 "metadata": {
  "kernelspec": {
   "display_name": "Python 3",
   "language": "python",
   "name": "python3"
  },
  "language_info": {
   "codemirror_mode": {
    "name": "ipython",
    "version": 3
   },
   "file_extension": ".py",
   "mimetype": "text/x-python",
   "name": "python",
   "nbconvert_exporter": "python",
   "pygments_lexer": "ipython3",
   "version": "3.6.3"
  }
 },
 "nbformat": 4,
 "nbformat_minor": 1
}
