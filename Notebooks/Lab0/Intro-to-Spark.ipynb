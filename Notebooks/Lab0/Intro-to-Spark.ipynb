{
 "cells": [
  {
   "cell_type": "markdown",
   "metadata": {},
   "source": [
    "---\n",
    "## Lab Number : 0\n",
    "\n",
    "### Title : *Introduction to Spark* \n",
    "\n",
    "### Goal : Spark basics. Getting famililar with RDDs / Dataframes / Transformations and Actions  \n",
    "\n",
    "### In this Lab we will cover the:\n",
    "\n",
    "1. Jupyter Notebooks basic intro\n",
    "2. Using Apache Spark with pySpark API (and possibly other APIs)  \n",
    "3. Basics of RDDs : transformations and actions\n",
    "4. Lambda functions\n",
    "5. More complex RDD actions\n",
    "6. More complex RDD transformations\n",
    "7. RDDs Lazy Evaluation \n",
    "\n",
    "### References:\n",
    "\n",
    "1. Jupyter Notebooks : https://try.jupyter.org/\n",
    "2. Spark API reference : https://spark.apache.org/docs/latest/api/python/pyspark.html#pyspark.RDD\n",
    "\n",
    "---"
   ]
  },
  {
   "cell_type": "markdown",
   "metadata": {},
   "source": [
    "\n",
    "### 1. Jupyter Notebooks\n",
    "\n",
    "Jupyter Notebooks are a very powerfull tool that allow Scientist , Data Scientist and Engineers  "
   ]
  },
  {
   "cell_type": "markdown",
   "metadata": {},
   "source": []
  }
 ],
 "metadata": {
  "kernelspec": {
   "display_name": "Python 3",
   "language": "python",
   "name": "python3"
  },
  "language_info": {
   "codemirror_mode": {
    "name": "ipython",
    "version": 3
   },
   "file_extension": ".py",
   "mimetype": "text/x-python",
   "name": "python",
   "nbconvert_exporter": "python",
   "pygments_lexer": "ipython3",
   "version": "3.6.3"
  }
 },
 "nbformat": 4,
 "nbformat_minor": 2
}
